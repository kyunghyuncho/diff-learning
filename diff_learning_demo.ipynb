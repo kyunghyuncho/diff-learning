{
 "cells": [
  {
   "cell_type": "code",
   "execution_count": 1,
   "metadata": {},
   "outputs": [],
   "source": [
    "%matplotlib widget"
   ]
  },
  {
   "cell_type": "code",
   "execution_count": 2,
   "metadata": {},
   "outputs": [],
   "source": [
    "from matplotlib import pyplot as plot"
   ]
  },
  {
   "cell_type": "code",
   "execution_count": 3,
   "metadata": {},
   "outputs": [],
   "source": [
    "import numpy"
   ]
  },
  {
   "cell_type": "code",
   "execution_count": 4,
   "metadata": {},
   "outputs": [],
   "source": [
    "import torch\n",
    "from torch import nn\n",
    "from torch import optim\n",
    "from torch import autograd"
   ]
  },
  {
   "cell_type": "code",
   "execution_count": 5,
   "metadata": {},
   "outputs": [],
   "source": [
    "x_train = numpy.random.rand(100,1) * 10."
   ]
  },
  {
   "cell_type": "code",
   "execution_count": 16,
   "metadata": {},
   "outputs": [],
   "source": [
    "def true_func(x, noise=0.):\n",
    "    return numpy.sin(x) + noise * numpy.random.randn(*x.shape)\n",
    "\n",
    "def true_inv(y):\n",
    "    return numpy.arcsin(y)"
   ]
  },
  {
   "cell_type": "code",
   "execution_count": 24,
   "metadata": {},
   "outputs": [],
   "source": [
    "class EnergyNet(nn.Module):\n",
    "    def __init__(self, n_in, n_hid=20):\n",
    "        super(EnergyNet,self).__init__()\n",
    "        self.n_hid = n_hid\n",
    "        self.net = nn.Sequential(nn.Linear(n_in, n_hid), nn.Tanh(), nn.Linear(n_hid, 1))\n",
    "        \n",
    "    def forward(self, x):\n",
    "        return self.net(x)"
   ]
  },
  {
   "cell_type": "code",
   "execution_count": 25,
   "metadata": {},
   "outputs": [
    {
     "name": "stdout",
     "output_type": "stream",
     "text": [
      "Epoch 500 Loss 0.7835099073193783\n"
     ]
    }
   ],
   "source": [
    "energy_net = EnergyNet(1, 50)\n",
    "optimizer = optim.Adam(energy_net.parameters())\n",
    "\n",
    "n_epochs = 500\n",
    "batch_sz = 10\n",
    "\n",
    "loss_run = -numpy.Inf\n",
    "\n",
    "for ei in range(n_epochs):\n",
    "    x_train = x_train[numpy.random.permutation(x_train.shape[0]),:]\n",
    "    \n",
    "    for ui in range(int(numpy.ceil(float(x_train.shape[0]) / batch_sz))):\n",
    "        optimizer.zero_grad()\n",
    "        \n",
    "        batch_x = x_train[ui * batch_sz:(ui+1)*batch_sz]\n",
    "        batch_y = true_func(batch_x, noise=0.2)\n",
    "        batch_disp_x = 0.2 * numpy.random.randn(batch_x.shape[0]).reshape(batch_x.shape)\n",
    "        batch_disp_y = true_func(batch_x+batch_disp_x, noise=0.2)\n",
    "        \n",
    "        batch_delta = batch_disp_y - batch_y\n",
    "        \n",
    "        x_in = torch.from_numpy(batch_x.astype('float32'))\n",
    "        x_diff = torch.from_numpy(batch_disp_x.astype('float32'))\n",
    "        x_in.requires_grad = True\n",
    "        \n",
    "        dummy = torch.ones_like(x_diff)\n",
    "        dummy.requires_grad = True\n",
    "        \n",
    "        batch_loss = ((autograd.grad(autograd.grad(energy_net(x_in), x_in, \n",
    "                                                   grad_outputs=dummy, create_graph=True),\n",
    "                                     dummy,\n",
    "                                     grad_outputs=x_diff.view(-1,1), create_graph=True)[0] - \n",
    "                       torch.from_numpy(batch_delta.astype('float32'))) ** 2).sum()\n",
    "        \n",
    "        batch_loss.backward()\n",
    "        optimizer.step()\n",
    "        \n",
    "        if loss_run == -numpy.Inf:\n",
    "            loss_run = batch_loss.item()\n",
    "        else:\n",
    "            loss_run = 0.9 * loss_run + 0.1 * batch_loss.item()\n",
    "            \n",
    "print(F'Epoch {ei+1} Loss {loss_run}')"
   ]
  },
  {
   "cell_type": "code",
   "execution_count": 26,
   "metadata": {},
   "outputs": [
    {
     "data": {
      "application/vnd.jupyter.widget-view+json": {
       "model_id": "8e669d3911884296b0c7dea01fc3d372",
       "version_major": 2,
       "version_minor": 0
      },
      "text/plain": [
       "Canvas(toolbar=Toolbar(toolitems=[('Home', 'Reset original view', 'home', 'home'), ('Back', 'Back to  previous…"
      ]
     },
     "metadata": {},
     "output_type": "display_data"
    }
   ],
   "source": [
    "plot.figure()\n",
    "\n",
    "plot.plot(x_train, true_func(x_train), 'x')\n",
    "plot.plot(x_train, energy_net(torch.from_numpy(x_train.astype('float32'))).data.numpy(), 'o')\n",
    "\n",
    "plot.grid(True)\n",
    "plot.legend(['ground truth', 'learned'])\n",
    "\n",
    "\n",
    "plot.show()"
   ]
  },
  {
   "cell_type": "code",
   "execution_count": 45,
   "metadata": {},
   "outputs": [
    {
     "data": {
      "text/plain": [
       "(10, 1)"
      ]
     },
     "execution_count": 45,
     "metadata": {},
     "output_type": "execute_result"
    }
   ],
   "source": [
    "batch_delta.shape"
   ]
  },
  {
   "cell_type": "code",
   "execution_count": 44,
   "metadata": {},
   "outputs": [
    {
     "data": {
      "text/plain": [
       "(10, 1)"
      ]
     },
     "execution_count": 44,
     "metadata": {},
     "output_type": "execute_result"
    }
   ],
   "source": [
    "batch_y.shape"
   ]
  },
  {
   "cell_type": "code",
   "execution_count": null,
   "metadata": {},
   "outputs": [],
   "source": []
  }
 ],
 "metadata": {
  "kernelspec": {
   "display_name": "Python 3",
   "language": "python",
   "name": "python3"
  },
  "language_info": {
   "codemirror_mode": {
    "name": "ipython",
    "version": 3
   },
   "file_extension": ".py",
   "mimetype": "text/x-python",
   "name": "python",
   "nbconvert_exporter": "python",
   "pygments_lexer": "ipython3",
   "version": "3.7.4"
  }
 },
 "nbformat": 4,
 "nbformat_minor": 4
}
